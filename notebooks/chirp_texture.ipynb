{
 "cells": [
  {
   "cell_type": "code",
   "execution_count": 1,
   "metadata": {},
   "outputs": [
    {
     "ename": "",
     "evalue": "",
     "output_type": "error",
     "traceback": [
      "\u001b[1;31mCannot execute code, session has been disposed. Please try restarting the Kernel."
     ]
    },
    {
     "ename": "",
     "evalue": "",
     "output_type": "error",
     "traceback": [
      "\u001b[1;31mThe Kernel crashed while executing code in the the current cell or a previous cell. Please review the code in the cell(s) to identify a possible cause of the failure. Click <a href='https://aka.ms/vscodeJupyterKernelCrash'>here</a> for more info. View Jupyter <a href='command:jupyter.viewOutput'>log</a> for further details."
     ]
    }
   ],
   "source": [
    "import numpy as np\n",
    "from scipy.signal.windows import tukey\n",
    "import torch\n",
    "\n",
    "import matplotlib.pyplot as plt\n",
    "plt.rcParams['figure.figsize'] = [6, 3]\n",
    "\n",
    "def sine(phi):\n",
    "    return torch.sin(2 * torch.pi * phi)\n",
    "\n",
    "sr = 2**13\n",
    "q\n",
    "torch.manual_seed(0)\n",
    "\n",
    "def syn_texture(log2_density=6.0, sign=1):\n",
    "    duration = 2\n",
    "    \n",
    "    fmin = 2**8\n",
    "    fmax = 2**9\n",
    "    n_events = 128\n",
    "    threshold_db = -10\n",
    "\n",
    "    event_length = torch.tensor(1/4 * sr).type(torch.int64)\n",
    "\n",
    "    gamma = torch.tensor(2.0, requires_grad=True)\n",
    "\n",
    "    # density\n",
    "    log2_density = torch.tensor(float(log2_density), requires_grad=True)\n",
    "    # sign\n",
    "    # sign = -1 #[-1, 1]\n",
    "\n",
    "    event_ids = torch.tensor(np.arange(n_events)).type(torch.int64)\n",
    "    density = torch.pow(2.0, log2_density)\n",
    "    amplitudes_db = event_ids * threshold_db / density\n",
    "    amplitudes = torch.nn.functional.softmax(amplitudes_db, dim=-1)\n",
    "\n",
    "    onsets = torch.floor(torch.rand(n_events) * (duration*sr - event_length))\n",
    "    onsets = onsets.type(torch.int64)\n",
    "    log2_fmin = torch.log2(torch.tensor(fmin))\n",
    "    log2_fmax = torch.log2(torch.tensor(fmax))\n",
    "    log2_frequencies = log2_fmin + torch.rand(n_events) * (log2_fmax-log2_fmin)\n",
    "    frequencies = torch.pow(2.0, log2_frequencies)\n",
    "\n",
    "    X = torch.zeros(duration*sr, n_events)\n",
    "\n",
    "    time = torch.arange(0, event_length/sr, 1/sr)\n",
    "    #envelope = core.gauss_window(event_length, std=torch.tensor(0.1)*event_length)\n",
    "    envelope = torch.tensor(tukey(event_length))\n",
    "\n",
    "    patch_zip = zip(event_ids, onsets, amplitudes, frequencies)\n",
    "    for event_id, onset, amplitude, frequency in patch_zip:\n",
    "        chirp = sine(frequency / (gamma*np.log(2)) * (2 ** (sign*gamma*time) - 1))\n",
    "        offset = onset + event_length\n",
    "        X[onset:offset, event_id] = chirp * amplitude * envelope\n",
    "\n",
    "\n",
    "    x = X.sum(axis=-1)\n",
    "    window = torch.tensor(tukey(duration*sr))\n",
    "    y = x*window\n",
    "    y = y/y.norm()\n",
    "    return y"
   ]
  },
  {
   "cell_type": "code",
   "execution_count": null,
   "metadata": {},
   "outputs": [],
   "source": [
    "import scipy.io.wavfile\n",
    "import os\n",
    "\n",
    "for file_name in os.listdir('audio/texture'):\n",
    "    file = 'audio/texture/' + file_name\n",
    "    if os.path.isfile(file):\n",
    "        os.remove(file)\n",
    "\n",
    "for density in np.arange(1, 8):\n",
    "    y = syn_texture(density, -1)\n",
    "    scipy.io.wavfile.write('audio/texture/-'+str(density)+'.wav', sr, y.detach().numpy())\n",
    "    y = syn_texture(density)\n",
    "    scipy.io.wavfile.write('audio/texture/'+str(density)+'.wav', sr, y.detach().numpy())"
   ]
  },
  {
   "cell_type": "code",
   "execution_count": null,
   "metadata": {},
   "outputs": [],
   "source": [
    "import librosa\n",
    "from librosa.display import specshow\n",
    "\n",
    "cqt_kwargs = {\"sr\": sr, \"fmin\": 2**6, \"bins_per_octave\": 24, \"hop_length\": 32}\n",
    "CQT = librosa.cqt(y.detach().numpy(), n_bins=120, **cqt_kwargs)\n",
    "specshow((np.abs(CQT)**0.33), **cqt_kwargs)\n",
    "plt.save_fig('../assets/texture.png')"
   ]
  },
  {
   "cell_type": "code",
   "execution_count": null,
   "metadata": {},
   "outputs": [],
   "source": [
    "from IPython.display import Audio\n",
    "Audio(data=y.detach().numpy(), rate=sr)"
   ]
  }
 ],
 "metadata": {
  "kernelspec": {
   "display_name": "kym",
   "language": "python",
   "name": "python3"
  },
  "language_info": {
   "codemirror_mode": {
    "name": "ipython",
    "version": 3
   },
   "file_extension": ".py",
   "mimetype": "text/x-python",
   "name": "python",
   "nbconvert_exporter": "python",
   "pygments_lexer": "ipython3",
   "version": "3.9.7"
  },
  "orig_nbformat": 4,
  "vscode": {
   "interpreter": {
    "hash": "02ca17155476280a9a7d5809e370aa11fb5fc878a147c890edb8126c332936ca"
   }
  }
 },
 "nbformat": 4,
 "nbformat_minor": 2
}
